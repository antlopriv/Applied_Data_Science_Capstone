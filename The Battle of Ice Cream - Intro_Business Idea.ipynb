{
    "cells": [
        {
            "cell_type": "markdown",
            "metadata": {
                "collapsed": true
            },
            "source": "# The Battle of Ice Cream - Introduction/Business Idea"
        },
        {
            "cell_type": "markdown",
            "metadata": {},
            "source": "## Introduction & Business Idea :"
        },
        {
            "cell_type": "markdown",
            "metadata": {},
            "source": "###  Idea Background: - US Ice Cream Spotlight -"
        },
        {
            "cell_type": "markdown",
            "metadata": {},
            "source": "#### Market Overview\nThe Global Ice Cream Market is growing at a CAGR of 4.9% during the forecast period (2020-2025) [1].\n\n* The rise in income, along with an increase in demand for sweet dishes, drives the growth of this market.\n* Whereas, the new innovative flavors that companies have come up with, act as a major driver for the market. Also, the cheaper price of the private label ice-creams are increasing the demand.\n* The sales of low-quality ice cream have been declining, due to the increased preference for premium ice cream.\n* Largest Market: North America\n\n\nThree key emerging trends that will affect change across the industry [2]:\n\n1. Niche companies and products\n    * The market continues to fragment. While leading companies own the share of voice, the total number of companies increases making the market more crowded than ever.\n    * Currently, the US is leading the way for launch activity in handcrafted ice creams, likely relating to the market\u2019s size and maturity.\n    * These products can offer innovation inspiration to other markets, specifically with regard to sourcing ingredients from local farmers and using packaging as a distinguishing selling point that celebrates \u2013 and appeals to \u2013 a sense of individuality.\n    \n    \n2. Health concerns\n    * Claims on US ice creams and frozen novelties focus on \u201cabsence of negatives\u201d. The most prevalent percent change in claims from 2013 to 2014 include GMO-free (35% increase), hormone free (nearly 25% increase), no additives/preservatives (20% increase), and low/no/reduced calorie (nearly 20% increase). Organic, seasonal and slimming claims all decreased between 2013 and 2014.\n    * Overwhelmingly, consumers claim to be buying less ice cream/treats because they are unhealthy, as opposed to too expensive.\n    * While health attributes are important, they are not essential for a third (33%) of US consumers.\n    * Still, companies are offering consumers more \u201cbetter for you\u201d options in the way of Greek yogurt options, smaller portion sizes, and better ingredients including vegetables, oats, soy and dairy free.\n    \n    \n3. Flavors and formats\n    * The most common retail purchase driver for ice cream/treats in the US is flavor (nearly 70%).\n    * Latest flavor innovations are taking a page out of confectionary\u2019s playbook and combining sweet with salty, including salted caramel and salted vanilla flavor combinations. In an attempt to attract the more sophisticated palates of some adults, brands are incorporating everything from bitter fruits and vegetables to cheese and alcohol, creating signature flavors."
        },
        {
            "cell_type": "markdown",
            "metadata": {},
            "source": "###  Idea Description: "
        },
        {
            "cell_type": "markdown",
            "metadata": {},
            "source": "According to ice cream market insights is still possible to be a new player into a saturated environment, only under specific conditions, so target will be to produce organic handcrafted ice cream with signature flavors - Niche product + Health concern + Favor Trends - in US (largest Market for Ice Cream).\n\nThe focus of this analysis will be to obtain the best locations for a production center. It is not the intention to offer specific coordinates, just to point towards an initial area to help decision-making for niche ice cream manofacturers."
        },
        {
            "cell_type": "markdown",
            "metadata": {},
            "source": "#### How to determine the correct location?\n* The best industrial location is the one that minimizes the overall cost, then each location must be analyzed from the point of view of cost to the customer and never from the pure industrial aspect.\n* The objective of a company is that the sum of the global costs (Supply + Production + Physical Distribution) of each piece at the time of delivery to the supplier is minimal.\n\n#### Premises to be covered by the production centers\nConsequently, the location of the production centers must meet the achievement of the following premises:\n* It must allow to reach the market in the terms of restocking and launching of new products that the market demands.\n* It must optimize overall profitability and not focus on mere cost of production.\n* Along the lines of the previous point, it should be considered the possibility of producing the same product in more than one point since, due to the reduction in relative importance of production costs caused by the concentration in 'core business', an industrial split, although It increases the purely industrial cost, it can reduce the cost of distribution by placing the origin of the product closer to consumption.\n\n#### Parameters for the analysis acording previous premises \n* Is defined to allocate a Small size factory / production to cover phisical distribution to a single city.\n* To reduce transport costs the optimal locations will have the minimal distance between supply and phisical distribution\n    - supply: Organic (dairy,soy, tapioca, vegetables and fruits) producers. \n    - Phisical distribution: short distribution channel to retailers (indirect chanel). Target, high density population city (population over 700K), with high income and low poverty rate, and saturated of possible retailers (supermarkets, restaurants, cafes...)\n    "
        },
        {
            "cell_type": "markdown",
            "metadata": {},
            "source": "### Target Audience: "
        },
        {
            "cell_type": "markdown",
            "metadata": {},
            "source": "Logistics department of a Handcrafted Organic ice cream manufacturer. \n\nReport will highlight the location of areas suitable to minimize global costs in Supply + Physical Distribution to position production center."
        },
        {
            "cell_type": "markdown",
            "metadata": {},
            "source": "###  References:"
        },
        {
            "cell_type": "markdown",
            "metadata": {},
            "source": "1.- https://www.mordorintelligence.com/industry-reports/ice-cream-market<Br/>\n2.- https://www.mintel.com/blog/food-market-news/ice-cream-insights-and-consumer-perceptions-3-trends-impacting-the-us-market"
        }
    ],
    "metadata": {
        "kernelspec": {
            "display_name": "Python 3.7",
            "language": "python",
            "name": "python3"
        },
        "language_info": {
            "codemirror_mode": {
                "name": "ipython",
                "version": 3
            },
            "file_extension": ".py",
            "mimetype": "text/x-python",
            "name": "python",
            "nbconvert_exporter": "python",
            "pygments_lexer": "ipython3",
            "version": "3.7.9"
        }
    },
    "nbformat": 4,
    "nbformat_minor": 1
}