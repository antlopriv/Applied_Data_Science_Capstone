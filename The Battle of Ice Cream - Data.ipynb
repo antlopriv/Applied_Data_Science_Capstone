{
    "cells": [
        {
            "cell_type": "markdown",
            "metadata": {
                "collapsed": true
            },
            "source": "# The Battle of Ice Cream "
        },
        {
            "cell_type": "markdown",
            "metadata": {},
            "source": "## Data :"
        },
        {
            "cell_type": "markdown",
            "metadata": {},
            "source": "***Data 1 :*** \n* United States Department of Agriculture (USDA) - Organic integrity Database. This database is the most comprehensive source of information on organic production covering all farms and businesses that are certified to the USDA organic standard.\n* In order to find a specific certified organic farm or business that produces required supplies - Dairy, vegetables, fruit, soy and tapioca.\n\nThis dataset exists for free on the web. Link to the dataset is : https://organic.ams.usda.gov/integrity/. Once populated certified products filter with required supplies and country (United States os America) DDBB can be exported to Excel."
        },
        {
            "cell_type": "markdown",
            "metadata": {},
            "source": "***Data 2 :*** \n* List of United States cities by population from wikipedia, as estimated by the United States Census Bureau. In this we will be using the data of the cities over 700K population.\n\nhttps://en.wikipedia.org/wiki/List_of_United_States_cities_by_population\n"
        },
        {
            "cell_type": "markdown",
            "metadata": {},
            "source": "***Data 3 :*** \n* Household income is an economic standard that can be applied to one household, or aggregated across a large group such as a county, city, or the whole country.\n* A key measure of household income is the median income, at which half of households have income above that level and half below. \n\nUnited States Census Bureau - Median Household Income by State: 2019. Source: 2014-2018 American Community Survey 5-Year Estimates\n\nhttps://www.census.gov/search-results.html?q=2019+Median+Household+Income+in+the+United+States&page=1&stateGeo=none&searchtype=web&cssp=SERP&_charset_=UTF-8 <br/>\nLink directs to a table that can be downloaded in csv format."
        },
        {
            "cell_type": "markdown",
            "metadata": {},
            "source": "***Data 4 :*** \n* Poverty in the United States of America refers to people who lack sufficient income or material possessions for their needs. Although the United States is a relatively wealthy country by international standards, poverty has consistently been present throughout the United States.\n* The U.S. federal government uses two measures to measure poverty: the poverty thresholds set by the U.S. Census Bureau, used for statistical purposes, and the poverty guidelines issued by the Department of Health and Human Services, which are used for administrative purposes.\n\nUnited States Census Bureau - Individuals Below Poverty Level by State : 2019.Source: 2020 Current Population Survey Annual Social and Economic Supplement (CPS ASEC).\n\nhttps://www.census.gov/search-results.html?searchType=web&cssp=SERP&q=poverty <Br/>\nLink directs to a table that can be downloaded in csv format."
        },
        {
            "cell_type": "markdown",
            "metadata": {},
            "source": "***Data 5 :*** \n* Cities geographical coordinates data will be utilized as input for the Foursquare API, that will be leveraged to provision retailers information for each of them."
        }
    ],
    "metadata": {
        "kernelspec": {
            "display_name": "Python 3.7",
            "language": "python",
            "name": "python3"
        },
        "language_info": {
            "codemirror_mode": {
                "name": "ipython",
                "version": 3
            },
            "file_extension": ".py",
            "mimetype": "text/x-python",
            "name": "python",
            "nbconvert_exporter": "python",
            "pygments_lexer": "ipython3",
            "version": "3.7.9"
        }
    },
    "nbformat": 4,
    "nbformat_minor": 1
}